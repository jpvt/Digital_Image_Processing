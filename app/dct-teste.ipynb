{
 "cells": [
  {
   "cell_type": "code",
   "execution_count": 4,
   "metadata": {},
   "outputs": [],
   "source": [
    "import numpy as np\n",
    "import matplotlib.pyplot as plt\n",
    "import cv2\n",
    "from PIL import Image"
   ]
  },
  {
   "cell_type": "code",
   "execution_count": 5,
   "metadata": {},
   "outputs": [
    {
     "data": {
      "text/plain": [
       "<matplotlib.image.AxesImage at 0x7f8a77674580>"
      ]
     },
     "execution_count": 5,
     "metadata": {},
     "output_type": "execute_result"
    },
    {
     "data": {
      "image/png": "[encoded data removed]",
      "text/plain": [
       "<Figure size 432x288 with 1 Axes>"
      ]
     },
     "metadata": {
      "needs_background": "light"
     },
     "output_type": "display_data"
    }
   ],
   "source": [
    "img = np.float32(np.array(Image.open(\"babooneye.png\").convert('L')))\n",
    "dct = cv2.dct(img)\n",
    "plt.imshow(dct)"
   ]
  },
  {
   "cell_type": "code",
   "execution_count": 17,
   "metadata": {},
   "outputs": [],
   "source": [
    "def dct_1d(image, nc):\n",
    "    \n",
    "    n = len(image)\n",
    "    \n",
    "    newImage = np.zeros_like(image).astype(float)\n",
    "    \n",
    "    \n",
    "    for k in range(n):\n",
    "        soma = 0\n",
    "        for l in range(n):\n",
    "            soma += image[l] * np.cos(2* np.pi * k / (2.0 * n) * l + (k * np.pi) / (2.0 * n))\n",
    "        \n",
    "        ck = np.sqrt(0.5) if k == 0 else 1\n",
    "        \n",
    "        newImage[k] = np.sqrt(2.0 / n) * ck * soma\n",
    "        \n",
    "    if nc > 0:\n",
    "        newImage.sort()\n",
    "        for i in range(nc, n):\n",
    "            newImage[i] = 0\n",
    "            \n",
    "            \n",
    "    return newImage"
   ]
  },
  {
   "cell_type": "code",
   "execution_count": 38,
   "metadata": {},
   "outputs": [],
   "source": [
    "def dct_2d(image, nc):\n",
    "    \n",
    "    R = image.shape[0]\n",
    "    C = image.shape[1]\n",
    "    \n",
    "    imageRow = np.zeros_like(image).astype(float)\n",
    "    imageCol = np.zeros_like(image).astype(float)\n",
    "    \n",
    "    # Aplicando DCT nas linhas\n",
    "    for m in range(R):\n",
    "        imageRow = dct_1d(image[m, :], nc)\n",
    "    \n",
    "    # Aplicando DCT nas colunas    \n",
    "    for n in range(C):\n",
    "        imageCol = dct_1d(imageRow[:, n], nc)\n",
    "        \n",
    "    return imageCol"
   ]
  },
  {
   "cell_type": "code",
   "execution_count": 43,
   "metadata": {},
   "outputs": [],
   "source": [
    "from math import cos, pi, sqrt\n",
    "import numpy as np\n",
    "\n",
    "\n",
    "def dct_2d(image, numberCoefficients=0):\n",
    "    \n",
    "    nc = numberCoefficients # passando para NC para melhorar a visibilidade da formula\n",
    "    height = image.shape[0]\n",
    "    width = image.shape[1]\n",
    "    imageRow = np.zeros_like(image).astype(float)\n",
    "    imageCol = np.zeros_like(image).astype(float)\n",
    "\n",
    "    for h in range(height):\n",
    "        imageRow[h, :] = dct_1d(image[h, :], nc) # aplicando IDCT na linhas\n",
    "    for w in range(width):\n",
    "        imageCol[:, w] = dct_1d(imageRow[:, w], nc) # aplicando IDCT nas colunas\n",
    "\n",
    "    return imageCol\n",
    "\n",
    "def dct_1d(image, numberCoefficients=0):\n",
    "    \n",
    "    nc = numberCoefficients\n",
    "    n = len(image)\n",
    "    newImage= np.zeros_like(image).astype(float)\n",
    "\n",
    "  \n",
    "    for k in range(n):\n",
    "        sum = 0\n",
    "        for i in range(n):\n",
    "            sum += image[i] * cos(2 * pi * k / (2.0 * n) * i + (k * pi) / (2.0 * n))\n",
    "        ck = sqrt(0.5) if k == 0 else 1\n",
    "        newImage[k] = sqrt(2.0 / n) * ck * sum\n",
    "\n",
    "    # salvando os N maiores numeros e zerandos todos os outros\n",
    "    if nc > 0:\n",
    "        newImage.sort()\n",
    "        for i in range(nc, n):\n",
    "            newImage[i] = 0\n",
    "\n",
    "    return newImage # retorno de um VETOR"
   ]
  },
  {
   "cell_type": "code",
   "execution_count": 48,
   "metadata": {},
   "outputs": [
    {
     "data": {
      "text/plain": [
       "<matplotlib.image.AxesImage at 0x7f8a772b2100>"
      ]
     },
     "execution_count": 48,
     "metadata": {},
     "output_type": "execute_result"
    },
    {
     "data": {
      "image/png": "[encoded data removed]",
      "text/plain": [
       "<Figure size 432x288 with 1 Axes>"
      ]
     },
     "metadata": {
      "needs_background": "light"
     },
     "output_type": "display_data"
    }
   ],
   "source": [
    "img = cv2.imread(\"babooneye.png\", 0)\n",
    "dct = dct_2d(img, 0)\n",
    "plt.imshow(dct, cmap = 'gray')"
   ]
  },
  {
   "cell_type": "code",
   "execution_count": 50,
   "metadata": {},
   "outputs": [],
   "source": [
    "def idct_2d(image):\n",
    "    \n",
    "    height = image.shape[0]\n",
    "    width =  image.shape[1]\n",
    "    imageRow = np.zeros_like(image).astype(float)\n",
    "    imageCol = np.zeros_like(image).astype(float)\n",
    "\n",
    "  \n",
    "    for h in range(height):\n",
    "        imageRow[h, :] = idct_1d(image[h, :]) # aplicando IDCT na linhas\n",
    "    for w in range(width):\n",
    "        imageCol[:, w] = idct_1d(imageRow[:, w]) # aplicando IDCT nas colunas\n",
    "\n",
    "    return imageCol\n",
    "\n",
    "def idct_1d(image):\n",
    "   \n",
    "    n = len(image)\n",
    "    newImage = np.zeros_like(image).astype(float)\n",
    "\n",
    "    for i in range(n):\n",
    "        sum = 0\n",
    "        for k in range(n):\n",
    "            ck = sqrt(0.5) if k == 0 else 1 # operador tenario para verificar o valor do CK\n",
    "            sum += ck * image[k] * cos(2 * pi * k / (2.0 * n) * i + (k * pi) / (2.0 * n))\n",
    "\n",
    "        newImage[i] = sqrt(2.0 / n) * sum\n",
    "\n",
    "    return newImage"
   ]
  },
  {
   "cell_type": "code",
   "execution_count": 52,
   "metadata": {},
   "outputs": [
    {
     "data": {
      "text/plain": [
       "<matplotlib.image.AxesImage at 0x7f8a7725a460>"
      ]
     },
     "execution_count": 52,
     "metadata": {},
     "output_type": "execute_result"
    },
    {
     "data": {
      "image/png": "[encoded data removed]",
      "text/plain": [
       "<Figure size 432x288 with 1 Axes>"
      ]
     },
     "metadata": {
      "needs_background": "light"
     },
     "output_type": "display_data"
    }
   ],
   "source": [
    "idct = idct_2d(dct)\n",
    "plt.imshow(idct, cmap = 'gray')"
   ]
  },
  {
   "cell_type": "code",
   "execution_count": 55,
   "metadata": {},
   "outputs": [
    {
     "data": {
      "image/png": "[encoded data removed]",
      "text/plain": [
       "<Figure size 1152x1152 with 3 Axes>"
      ]
     },
     "metadata": {
      "needs_background": "light"
     },
     "output_type": "display_data"
    }
   ],
   "source": [
    "fig, axs = plt.subplots(1, 3, figsize = (16,16))\n",
    "axs[0].imshow(img, cmap = 'gray')\n",
    "axs[1].imshow(dct, cmap = 'gray')\n",
    "axs[2].imshow(idct, cmap = 'gray')\n",
    "plt.show()"
   ]
  },
  {
   "cell_type": "code",
   "execution_count": 80,
   "metadata": {},
   "outputs": [],
   "source": [
    "class DCT:\n",
    "    \n",
    "    def __init__(self):\n",
    "        self.input_dct2d = None\n",
    "        self.output_dct2d = None\n",
    "        \n",
    "        self.input_idct2d = None\n",
    "        self.output_idct2d = None\n",
    "        \n",
    "    def dct_2d(self, img_arr, n_coef = 0):\n",
    "        self.input_dct2d = img_arr\n",
    "        \n",
    "        image = img_arr\n",
    "        nc = n_coef\n",
    "        rows = img_arr.shape[0]\n",
    "        cols = img_arr.shape[1]\n",
    "        \n",
    "        imageRow = np.zeros_like(image).astype(float)\n",
    "        imageCol = np.zeros_like(image).astype(float)        \n",
    "        \n",
    "        for row in range(rows):\n",
    "            imageRow[row, :] = self.dct_1d(image[row, :], nc) # aplicando DCT na linhas\n",
    "        \n",
    "        for col in range(cols):\n",
    "            imageCol[:, col] = self.dct_1d(imageRow[:, col], nc) # aplicando DCT nas colunas\n",
    "        \n",
    "        #plt.imshow(imageCol, cmap = 'gray')\n",
    "        \n",
    "        self.output_dct2d = imageCol\n",
    "        \n",
    "        return imageCol\n",
    "    \n",
    "    def dct_1d(self, image, n_coef = 0):\n",
    "        \n",
    "        nc = n_coef\n",
    "        \n",
    "        n = len(image)\n",
    "        newImage= np.zeros_like(image).astype(float)\n",
    "\n",
    "\n",
    "        for k in range(n):\n",
    "            sum = 0\n",
    "            for i in range(n):\n",
    "                sum += image[i] * cos(2 * pi * k / (2.0 * n) * i + (k * pi) / (2.0 * n))\n",
    "                \n",
    "            ck = sqrt(0.5) if k == 0 else 1\n",
    "            newImage[k] = sqrt(2.0 / n) * ck * sum\n",
    "\n",
    "        # salvando os N maiores numeros e zerandos todos os outros\n",
    "        if nc > 0:\n",
    "            newImage.sort()\n",
    "            for i in range(nc, n):\n",
    "                newImage[i] = 0\n",
    "\n",
    "        return newImage # retorno de um VETOR\n",
    "    \n",
    "    def idct_2d(self, img_arr = None):\n",
    "        \n",
    "        if type(img_arr) == type(None):\n",
    "            img_arr = self.output_dct2d\n",
    "            \n",
    "        image = img_arr\n",
    "        self.input_idct2d = img_arr\n",
    "        \n",
    "        rows = image.shape[0]\n",
    "        cols =  image.shape[1]\n",
    "        imageRow = np.zeros_like(image).astype(float)\n",
    "        imageCol = np.zeros_like(image).astype(float)\n",
    "\n",
    "\n",
    "        for row in range(rows):\n",
    "            imageRow[row, :] = self.idct_1d(image[row, :]) # aplicando IDCT na linhas\n",
    "            \n",
    "        for col in range(cols):\n",
    "            imageCol[:, col] = self.idct_1d(imageRow[:, col]) # aplicando IDCT nas colunas\n",
    "        \n",
    "        \n",
    "        #plt.imshow(imageCol, cmap = 'gray')\n",
    "        self.output_idct2d = imageCol\n",
    "        \n",
    "        return imageCol\n",
    "        \n",
    "    def idct_1d(self, image):\n",
    "   \n",
    "        n = len(image)\n",
    "        newImage = np.zeros_like(image).astype(float)\n",
    "\n",
    "        for i in range(n):\n",
    "            sum = 0\n",
    "            for k in range(n):\n",
    "                ck = sqrt(0.5) if k == 0 else 1 # operador tenario para verificar o valor do CK\n",
    "                sum += ck * image[k] * cos(2 * pi * k / (2.0 * n) * i + (k * pi) / (2.0 * n))\n",
    "\n",
    "            newImage[i] = sqrt(2.0 / n) * sum\n",
    "\n",
    "        return newImage\n",
    "    \n",
    "    def show_process(self):\n",
    "        \n",
    "        fig, axs = plt.subplots(1, 3, figsize = (16,16))\n",
    "        axs[0].imshow(self.input_dct2d, cmap = 'gray')\n",
    "        axs[1].imshow(self.output_dct2d, cmap = 'gray')\n",
    "        axs[2].imshow(self.output_idct2d, cmap = 'gray')\n",
    "        plt.show()"
   ]
  },
  {
   "cell_type": "code",
   "execution_count": 83,
   "metadata": {},
   "outputs": [],
   "source": [
    "conv = DCT()\n",
    "\n",
    "dct = conv.dct_2d(img, 0)\n",
    "idct = conv.idct_2d()"
   ]
  },
  {
   "cell_type": "code",
   "execution_count": null,
   "metadata": {},
   "outputs": [],
   "source": []
  },
  {
   "cell_type": "code",
   "execution_count": 84,
   "metadata": {},
   "outputs": [
    {
     "data": {
      "image/png": "[encoded data removed]",
      "text/plain": [
       "<Figure size 1152x1152 with 3 Axes>"
      ]
     },
     "metadata": {
      "needs_background": "light"
     },
     "output_type": "display_data"
    }
   ],
   "source": [
    "conv.show_process()"
   ]
  },
  {
   "cell_type": "code",
   "execution_count": null,
   "metadata": {},
   "outputs": [],
   "source": []
  },
  {
   "cell_type": "code",
   "execution_count": null,
   "metadata": {},
   "outputs": [],
   "source": []
  }
 ],
 "metadata": {
  "kernelspec": {
   "display_name": "Python 3",
   "language": "python",
   "name": "python3"
  },
  "language_info": {
   "codemirror_mode": {
    "name": "ipython",
    "version": 3
   },
   "file_extension": ".py",
   "mimetype": "text/x-python",
   "name": "python",
   "nbconvert_exporter": "python",
   "pygments_lexer": "ipython3",
   "version": "3.8.5"
  }
 },
 "nbformat": 4,
 "nbformat_minor": 4
}
