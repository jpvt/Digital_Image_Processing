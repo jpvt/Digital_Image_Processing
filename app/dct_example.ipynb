{
 "cells": [
  {
   "source": [
    "# Implementação e teste da classe DCT"
   ],
   "cell_type": "markdown",
   "metadata": {}
  },
  {
   "cell_type": "code",
   "execution_count": 1,
   "metadata": {},
   "outputs": [],
   "source": [
    "import numpy as np\n",
    "import matplotlib.pyplot as plt\n",
    "import cv2\n",
    "from PIL import Image"
   ]
  },
  {
   "cell_type": "code",
   "execution_count": 2,
   "metadata": {},
   "outputs": [],
   "source": [
    "img = np.array(Image.open(\"../app/assets/Imagens_teste/babooneye.png\").convert('L'))\n",
    "# dct = cv2.dct(img)\n",
    "# plt.imshow(dct, cmap = 'gray')"
   ]
  },
  {
   "cell_type": "code",
   "execution_count": 3,
   "metadata": {},
   "outputs": [],
   "source": [
    "from PIL import Image\n",
    "import numpy as np\n",
    "import matplotlib.pyplot as plt\n",
    "\n",
    "class DCT:\n",
    "    def __init__(self):\n",
    "        self.input_dct2d = None\n",
    "        self.output_dct2d = None\n",
    "        \n",
    "        self.input_idct2d = None\n",
    "        self.output_idct2d = None\n",
    "\n",
    "    def get_2d_dct(self, image, n_coef = 0):\n",
    "        self.input_dct2d = image\n",
    "\n",
    "        output = np.zeros(image.shape)\n",
    "\n",
    "        R = output.shape[0]\n",
    "        C = output.shape[1]\n",
    "\n",
    "        for k in range(R):\n",
    "            ck = np.sqrt(0.5) if k == 0 else 1\n",
    "            for l in range(C):\n",
    "                cl = np.sqrt(0.5) if l == 0 else 1\n",
    "                for m in range(R):\n",
    "                    for n in range(C):\n",
    "                        output[k][l] += image[m][n] * np.cos(((2*m + 1) * k*np.pi)/(2*R)) * np.cos(((2*n + 1) * l*np.pi)/(2*C))\n",
    "                output[k][l] *= ck * cl\n",
    "\n",
    "        output *= 2.0/np.sqrt(R*C)\n",
    "\n",
    "        if n_coef > 0:\n",
    "            output.sort()\n",
    "            for i in range(n_coef, n):\n",
    "                output[i] = 0\n",
    "\n",
    "        self.output_dct2d = output\n",
    "\n",
    "        return output\n",
    "        \n",
    "    def get_2d_dct_sep(self, image, n_coef = 0):\n",
    "        self.input_dct2d = image\n",
    "        \n",
    "        output = np.zeros(image.shape)\n",
    "        \n",
    "        for row in range(image.shape[0]):\n",
    "            output[row, :] = self.get_1d_dct(image[row, :], n_coef)\n",
    "        \n",
    "        for column in range(image.shape[1]):\n",
    "            output[:, column] = self.get_1d_dct(output[:, column], n_coef)\n",
    "\n",
    "        self.output_dct2d = output      \n",
    "        \n",
    "        return output\n",
    "    \n",
    "    def get_1d_dct(self, image, n_coef = 0):\n",
    "        output = np.zeros(image.shape)\n",
    "        n = len(image)\n",
    "\n",
    "        for k in range(n):\n",
    "            ck = np.sqrt(0.5) if k == 0 else 1\n",
    "            for i in range(n):\n",
    "                output[k] += image[i] * np.cos(2 * np.pi * k / (2.0 * n) * i + (k * np.pi) / (2.0 * n))\n",
    "            output[k] *= ck\n",
    "\n",
    "        output *= np.sqrt(2.0/n)\n",
    "\n",
    "        if type(n_coef) == float or type(n_coef) == np.float32:\n",
    "            n_coef = int(n_coef * len(output))\n",
    "\n",
    "\n",
    "        if n_coef > 0:\n",
    "            output.sort()\n",
    "            for i in range(n_coef, n):\n",
    "                output[i] = 0\n",
    "\n",
    "        return output\n",
    "\n",
    "    def get_inv_2d_dct(self, dct = None):\n",
    "        if type(dct) == type(None):\n",
    "            dct = self.output_dct2d\n",
    "            \n",
    "        self.input_idct2d = dct\n",
    "\n",
    "        output = np.zeros(dct.shape)\n",
    "\n",
    "        R = output.shape[0]\n",
    "        C = output.shape[1]\n",
    "\n",
    "        for m in range(R):\n",
    "            for n in range(C):\n",
    "                for k in range(R):\n",
    "                    ck = np.sqrt(0.5) if k == 0 else 1\n",
    "                    for l in range(C):\n",
    "                        cl = np.sqrt(0.5) if l == 0 else 1\n",
    "                        output[m][n] += ck * cl * dct[k][l] * np.cos(((2*m + 1) * k*np.pi)/(2*R)) * np.cos(((2*n + 1) * l*np.pi)/(2*C))\n",
    "\n",
    "        output *= (2 / np.sqrt(R*C))\n",
    "\n",
    "        self.output_idct2d = np.round(output)\n",
    "\n",
    "        self.output_idct2d[self.output_idct2d < 0] = 0\n",
    "        self.output_idct2d[self.output_idct2d > 255] = 255\n",
    "        \n",
    "\n",
    "        return output\n",
    "    \n",
    "    def get_inv_2d_dct_sep(self, dct = None):\n",
    "        \n",
    "        if type(dct) == type(None):\n",
    "            dct = self.output_dct2d\n",
    "            \n",
    "        self.input_idct2d = dct\n",
    "        \n",
    "        output = np.zeros(dct.shape)\n",
    "\n",
    "        for row in range(dct.shape[0]):\n",
    "            output[row, :] = self.get_inv_1d_dct(dct[row, :])\n",
    "            \n",
    "        for column in range(dct.shape[1]):\n",
    "            output[:, column] = self.get_inv_1d_dct(output[:, column])\n",
    "                \n",
    "        self.output_idct2d = np.round(output)\n",
    "\n",
    "        self.output_idct2d[self.output_idct2d < 0] = 0\n",
    "        self.output_idct2d[self.output_idct2d > 255] = 255\n",
    "        \n",
    "        return output\n",
    "        \n",
    "    def get_inv_1d_dct(self, dct):\n",
    "        output = np.zeros(dct.shape)\n",
    "        n = len(dct)\n",
    "\n",
    "        for i in range(n):\n",
    "            for k in range(n):\n",
    "                ck = np.sqrt(0.5) if k == 0 else 1\n",
    "                output[i] += ck * dct[k] * np.cos(2 * np.pi * k / (2.0 * n) * i + (k * np.pi) / (2.0 * n))\n",
    "            output[i] *= np.sqrt(2.0 / n)\n",
    "\n",
    "        return output\n",
    "    \n",
    "    # def show_process(self):\n",
    "    #     return self.input_dct2d, self.output_dct2d, self.output_idct2d\n",
    "    \n",
    "    def show_process(self):\n",
    "        fig, axs = plt.subplots(1, 3, figsize = (16,16))\n",
    "        axs[0].imshow(self.input_dct2d, cmap = 'gray')\n",
    "        axs[1].imshow(self.output_dct2d, cmap = 'gray')\n",
    "        axs[2].imshow(self.output_idct2d, cmap = 'gray')\n",
    "        plt.show()"
   ]
  },
  {
   "cell_type": "code",
   "execution_count": 4,
   "metadata": {},
   "outputs": [],
   "source": [
    "conv = DCT()\n",
    "\n",
    "dct = conv.get_2d_dct_sep(img, 0)\n",
    "idct = conv.get_inv_2d_dct()"
   ]
  },
  {
   "cell_type": "code",
   "execution_count": 5,
   "metadata": {},
   "outputs": [
    {
     "output_type": "display_data",
     "data": {
      "text/plain": "<Figure size 1152x1152 with 3 Axes>",
      "image/svg+xml": "<?xml version=\"1.0\" encoding=\"utf-8\" standalone=\"no\"?>\n<!DOCTYPE svg PUBLIC \"-//W3C//DTD SVG 1.1//EN\"\n  \"http://www.w3.org/Graphics/SVG/1.1/DTD/svg11.dtd\">\n<!-- Created with matplotlib (https://matplotlib.org/) -->\n<svg height=\"196.259697pt\" version=\"1.1\" viewBox=\"0 0 926.925 196.259697\" width=\"926.925pt\" xmlns=\"http://www.w3.org/2000/svg\" xmlns:xlink=\"http://www.w3.org/1999/xlink\">\n <metadata>\n  <rdf:RDF xmlns:cc=\"http://creativecommons.org/ns#\" xmlns:dc=\"http://purl.org/dc/elements/1.1/\" xmlns:rdf=\"http://www.w3.org/1999/02/22-rdf-syntax-ns#\">\n   <cc:Work>\n    <dc:type rdf:resource=\"http://purl.org/dc/dcmitype/StillImage\"/>\n    <dc:date>2020-12-07T10:28:43.100137</dc:date>\n    <dc:format>image/svg+xml</dc:format>\n    <dc:creator>\n     <cc:Agent>\n      <dc:title>Matplotlib v3.3.2, https://matplotlib.org/</dc:title>\n     </cc:Agent>\n    </dc:creator>\n   </cc:Work>\n  </rdf:RDF>\n </metadata>\n <defs>\n  <style type=\"text/css\">*{stroke-linecap:butt;stroke-linejoin:round;}</style>\n </defs>\n <g id=\"figure_1\">\n  <g id=\"patch_1\">\n   <path d=\"M 0 196.259697 \nL 926.925 196.259697 \nL 926.925 0 \nL 0 0 \nz\n\" style=\"fill:none;\"/>\n  </g>\n  <g id=\"axes_1\">\n   <g id=\"patch_2\">\n    <path d=\"M 26.925 172.381572 \nL 289.513235 172.381572 \nL 289.513235 8.263925 \nL 26.925 8.263925 \nz\n\" style=\"fill:#ffffff;\"/>\n   </g>\n   <g clip-path=\"url(#p82599c42b5)\">\n    <image height=\"165\" id=\"image1439111379\" transform=\"scale(1 -1)translate(0 -165)\" width=\"263\" x=\"26.925\" xlink:href=\"data:image/png;base64,\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\" y=\"-7.381572\"/>\n   </g>\n   <g id=\"matplotlib.axis_1\">\n    <g id=\"xtick_1\">\n     <g id=\"line2d_1\">\n      <defs>\n       <path d=\"M 0 0 \nL 0 3.5 \n\" id=\"m284995aa52\" style=\"stroke:#000000;stroke-width:0.8;\"/>\n      </defs>\n      <g>\n       <use style=\"stroke:#000000;stroke-width:0.8;\" x=\"29.660294\" xlink:href=\"#m284995aa52\" y=\"172.381572\"/>\n      </g>\n     </g>\n     <g id=\"text_1\">\n      <!-- 0 -->\n      <g transform=\"translate(26.479044 186.980009)scale(0.1 -0.1)\">\n       <defs>\n        <path d=\"M 31.78125 66.40625 \nQ 24.171875 66.40625 20.328125 58.90625 \nQ 16.5 51.421875 16.5 36.375 \nQ 16.5 21.390625 20.328125 13.890625 \nQ 24.171875 6.390625 31.78125 6.390625 \nQ 39.453125 6.390625 43.28125 13.890625 \nQ 47.125 21.390625 47.125 36.375 \nQ 47.125 51.421875 43.28125 58.90625 \nQ 39.453125 66.40625 31.78125 66.40625 \nz\nM 31.78125 74.21875 \nQ 44.046875 74.21875 50.515625 64.515625 \nQ 56.984375 54.828125 56.984375 36.375 \nQ 56.984375 17.96875 50.515625 8.265625 \nQ 44.046875 -1.421875 31.78125 -1.421875 \nQ 19.53125 -1.421875 13.0625 8.265625 \nQ 6.59375 17.96875 6.59375 36.375 \nQ 6.59375 54.828125 13.0625 64.515625 \nQ 19.53125 74.21875 31.78125 74.21875 \nz\n\" id=\"DejaVuSans-48\"/>\n       </defs>\n       <use xlink:href=\"#DejaVuSans-48\"/>\n      </g>\n     </g>\n    </g>\n    <g id=\"xtick_2\">\n     <g id=\"line2d_2\">\n      <g>\n       <use style=\"stroke:#000000;stroke-width:0.8;\" x=\"84.366176\" xlink:href=\"#m284995aa52\" y=\"172.381572\"/>\n      </g>\n     </g>\n     <g id=\"text_2\">\n      <!-- 10 -->\n      <g transform=\"translate(78.003676 186.980009)scale(0.1 -0.1)\">\n       <defs>\n        <path d=\"M 12.40625 8.296875 \nL 28.515625 8.296875 \nL 28.515625 63.921875 \nL 10.984375 60.40625 \nL 10.984375 69.390625 \nL 28.421875 72.90625 \nL 38.28125 72.90625 \nL 38.28125 8.296875 \nL 54.390625 8.296875 \nL 54.390625 0 \nL 12.40625 0 \nz\n\" id=\"DejaVuSans-49\"/>\n       </defs>\n       <use xlink:href=\"#DejaVuSans-49\"/>\n       <use x=\"63.623047\" xlink:href=\"#DejaVuSans-48\"/>\n      </g>\n     </g>\n    </g>\n    <g id=\"xtick_3\">\n     <g id=\"line2d_3\">\n      <g>\n       <use style=\"stroke:#000000;stroke-width:0.8;\" x=\"139.072059\" xlink:href=\"#m284995aa52\" y=\"172.381572\"/>\n      </g>\n     </g>\n     <g id=\"text_3\">\n      <!-- 20 -->\n      <g transform=\"translate(132.709559 186.980009)scale(0.1 -0.1)\">\n       <defs>\n        <path d=\"M 19.1875 8.296875 \nL 53.609375 8.296875 \nL 53.609375 0 \nL 7.328125 0 \nL 7.328125 8.296875 \nQ 12.9375 14.109375 22.625 23.890625 \nQ 32.328125 33.6875 34.8125 36.53125 \nQ 39.546875 41.84375 41.421875 45.53125 \nQ 43.3125 49.21875 43.3125 52.78125 \nQ 43.3125 58.59375 39.234375 62.25 \nQ 35.15625 65.921875 28.609375 65.921875 \nQ 23.96875 65.921875 18.8125 64.3125 \nQ 13.671875 62.703125 7.8125 59.421875 \nL 7.8125 69.390625 \nQ 13.765625 71.78125 18.9375 73 \nQ 24.125 74.21875 28.421875 74.21875 \nQ 39.75 74.21875 46.484375 68.546875 \nQ 53.21875 62.890625 53.21875 53.421875 \nQ 53.21875 48.921875 51.53125 44.890625 \nQ 49.859375 40.875 45.40625 35.40625 \nQ 44.1875 33.984375 37.640625 27.21875 \nQ 31.109375 20.453125 19.1875 8.296875 \nz\n\" id=\"DejaVuSans-50\"/>\n       </defs>\n       <use xlink:href=\"#DejaVuSans-50\"/>\n       <use x=\"63.623047\" xlink:href=\"#DejaVuSans-48\"/>\n      </g>\n     </g>\n    </g>\n    <g id=\"xtick_4\">\n     <g id=\"line2d_4\">\n      <g>\n       <use style=\"stroke:#000000;stroke-width:0.8;\" x=\"193.777941\" xlink:href=\"#m284995aa52\" y=\"172.381572\"/>\n      </g>\n     </g>\n     <g id=\"text_4\">\n      <!-- 30 -->\n      <g transform=\"translate(187.415441 186.980009)scale(0.1 -0.1)\">\n       <defs>\n        <path d=\"M 40.578125 39.3125 \nQ 47.65625 37.796875 51.625 33 \nQ 55.609375 28.21875 55.609375 21.1875 \nQ 55.609375 10.40625 48.1875 4.484375 \nQ 40.765625 -1.421875 27.09375 -1.421875 \nQ 22.515625 -1.421875 17.65625 -0.515625 \nQ 12.796875 0.390625 7.625 2.203125 \nL 7.625 11.71875 \nQ 11.71875 9.328125 16.59375 8.109375 \nQ 21.484375 6.890625 26.8125 6.890625 \nQ 36.078125 6.890625 40.9375 10.546875 \nQ 45.796875 14.203125 45.796875 21.1875 \nQ 45.796875 27.640625 41.28125 31.265625 \nQ 36.765625 34.90625 28.71875 34.90625 \nL 20.21875 34.90625 \nL 20.21875 43.015625 \nL 29.109375 43.015625 \nQ 36.375 43.015625 40.234375 45.921875 \nQ 44.09375 48.828125 44.09375 54.296875 \nQ 44.09375 59.90625 40.109375 62.90625 \nQ 36.140625 65.921875 28.71875 65.921875 \nQ 24.65625 65.921875 20.015625 65.03125 \nQ 15.375 64.15625 9.8125 62.3125 \nL 9.8125 71.09375 \nQ 15.4375 72.65625 20.34375 73.4375 \nQ 25.25 74.21875 29.59375 74.21875 \nQ 40.828125 74.21875 47.359375 69.109375 \nQ 53.90625 64.015625 53.90625 55.328125 \nQ 53.90625 49.265625 50.4375 45.09375 \nQ 46.96875 40.921875 40.578125 39.3125 \nz\n\" id=\"DejaVuSans-51\"/>\n       </defs>\n       <use xlink:href=\"#DejaVuSans-51\"/>\n       <use x=\"63.623047\" xlink:href=\"#DejaVuSans-48\"/>\n      </g>\n     </g>\n    </g>\n    <g id=\"xtick_5\">\n     <g id=\"line2d_5\">\n      <g>\n       <use style=\"stroke:#000000;stroke-width:0.8;\" x=\"248.483824\" xlink:href=\"#m284995aa52\" y=\"172.381572\"/>\n      </g>\n     </g>\n     <g id=\"text_5\">\n      <!-- 40 -->\n      <g transform=\"translate(242.121324 186.980009)scale(0.1 -0.1)\">\n       <defs>\n        <path d=\"M 37.796875 64.3125 \nL 12.890625 25.390625 \nL 37.796875 25.390625 \nz\nM 35.203125 72.90625 \nL 47.609375 72.90625 \nL 47.609375 25.390625 \nL 58.015625 25.390625 \nL 58.015625 17.1875 \nL 47.609375 17.1875 \nL 47.609375 0 \nL 37.796875 0 \nL 37.796875 17.1875 \nL 4.890625 17.1875 \nL 4.890625 26.703125 \nz\n\" id=\"DejaVuSans-52\"/>\n       </defs>\n       <use xlink:href=\"#DejaVuSans-52\"/>\n       <use x=\"63.623047\" xlink:href=\"#DejaVuSans-48\"/>\n      </g>\n     </g>\n    </g>\n   </g>\n   <g id=\"matplotlib.axis_2\">\n    <g id=\"ytick_1\">\n     <g id=\"line2d_6\">\n      <defs>\n       <path d=\"M 0 0 \nL -3.5 0 \n\" id=\"m3efd749827\" style=\"stroke:#000000;stroke-width:0.8;\"/>\n      </defs>\n      <g>\n       <use style=\"stroke:#000000;stroke-width:0.8;\" x=\"26.925\" xlink:href=\"#m3efd749827\" y=\"10.999219\"/>\n      </g>\n     </g>\n     <g id=\"text_6\">\n      <!-- 0 -->\n      <g transform=\"translate(13.5625 14.798437)scale(0.1 -0.1)\">\n       <use xlink:href=\"#DejaVuSans-48\"/>\n      </g>\n     </g>\n    </g>\n    <g id=\"ytick_2\">\n     <g id=\"line2d_7\">\n      <g>\n       <use style=\"stroke:#000000;stroke-width:0.8;\" x=\"26.925\" xlink:href=\"#m3efd749827\" y=\"38.35216\"/>\n      </g>\n     </g>\n     <g id=\"text_7\">\n      <!-- 5 -->\n      <g transform=\"translate(13.5625 42.151379)scale(0.1 -0.1)\">\n       <defs>\n        <path d=\"M 10.796875 72.90625 \nL 49.515625 72.90625 \nL 49.515625 64.59375 \nL 19.828125 64.59375 \nL 19.828125 46.734375 \nQ 21.96875 47.46875 24.109375 47.828125 \nQ 26.265625 48.1875 28.421875 48.1875 \nQ 40.625 48.1875 47.75 41.5 \nQ 54.890625 34.8125 54.890625 23.390625 \nQ 54.890625 11.625 47.5625 5.09375 \nQ 40.234375 -1.421875 26.90625 -1.421875 \nQ 22.3125 -1.421875 17.546875 -0.640625 \nQ 12.796875 0.140625 7.71875 1.703125 \nL 7.71875 11.625 \nQ 12.109375 9.234375 16.796875 8.0625 \nQ 21.484375 6.890625 26.703125 6.890625 \nQ 35.15625 6.890625 40.078125 11.328125 \nQ 45.015625 15.765625 45.015625 23.390625 \nQ 45.015625 31 40.078125 35.4375 \nQ 35.15625 39.890625 26.703125 39.890625 \nQ 22.75 39.890625 18.8125 39.015625 \nQ 14.890625 38.140625 10.796875 36.28125 \nz\n\" id=\"DejaVuSans-53\"/>\n       </defs>\n       <use xlink:href=\"#DejaVuSans-53\"/>\n      </g>\n     </g>\n    </g>\n    <g id=\"ytick_3\">\n     <g id=\"line2d_8\">\n      <g>\n       <use style=\"stroke:#000000;stroke-width:0.8;\" x=\"26.925\" xlink:href=\"#m3efd749827\" y=\"65.705101\"/>\n      </g>\n     </g>\n     <g id=\"text_8\">\n      <!-- 10 -->\n      <g transform=\"translate(7.2 69.50432)scale(0.1 -0.1)\">\n       <use xlink:href=\"#DejaVuSans-49\"/>\n       <use x=\"63.623047\" xlink:href=\"#DejaVuSans-48\"/>\n      </g>\n     </g>\n    </g>\n    <g id=\"ytick_4\">\n     <g id=\"line2d_9\">\n      <g>\n       <use style=\"stroke:#000000;stroke-width:0.8;\" x=\"26.925\" xlink:href=\"#m3efd749827\" y=\"93.058042\"/>\n      </g>\n     </g>\n     <g id=\"text_9\">\n      <!-- 15 -->\n      <g transform=\"translate(7.2 96.857261)scale(0.1 -0.1)\">\n       <use xlink:href=\"#DejaVuSans-49\"/>\n       <use x=\"63.623047\" xlink:href=\"#DejaVuSans-53\"/>\n      </g>\n     </g>\n    </g>\n    <g id=\"ytick_5\">\n     <g id=\"line2d_10\">\n      <g>\n       <use style=\"stroke:#000000;stroke-width:0.8;\" x=\"26.925\" xlink:href=\"#m3efd749827\" y=\"120.410983\"/>\n      </g>\n     </g>\n     <g id=\"text_10\">\n      <!-- 20 -->\n      <g transform=\"translate(7.2 124.210202)scale(0.1 -0.1)\">\n       <use xlink:href=\"#DejaVuSans-50\"/>\n       <use x=\"63.623047\" xlink:href=\"#DejaVuSans-48\"/>\n      </g>\n     </g>\n    </g>\n    <g id=\"ytick_6\">\n     <g id=\"line2d_11\">\n      <g>\n       <use style=\"stroke:#000000;stroke-width:0.8;\" x=\"26.925\" xlink:href=\"#m3efd749827\" y=\"147.763925\"/>\n      </g>\n     </g>\n     <g id=\"text_11\">\n      <!-- 25 -->\n      <g transform=\"translate(7.2 151.563143)scale(0.1 -0.1)\">\n       <use xlink:href=\"#DejaVuSans-50\"/>\n       <use x=\"63.623047\" xlink:href=\"#DejaVuSans-53\"/>\n      </g>\n     </g>\n    </g>\n   </g>\n   <g id=\"patch_3\">\n    <path d=\"M 26.925 172.381572 \nL 26.925 8.263925 \n\" style=\"fill:none;stroke:#000000;stroke-linecap:square;stroke-linejoin:miter;stroke-width:0.8;\"/>\n   </g>\n   <g id=\"patch_4\">\n    <path d=\"M 289.513235 172.381572 \nL 289.513235 8.263925 \n\" style=\"fill:none;stroke:#000000;stroke-linecap:square;stroke-linejoin:miter;stroke-width:0.8;\"/>\n   </g>\n   <g id=\"patch_5\">\n    <path d=\"M 26.925 172.381572 \nL 289.513235 172.381572 \n\" style=\"fill:none;stroke:#000000;stroke-linecap:square;stroke-linejoin:miter;stroke-width:0.8;\"/>\n   </g>\n   <g id=\"patch_6\">\n    <path d=\"M 26.925 8.263925 \nL 289.513235 8.263925 \n\" style=\"fill:none;stroke:#000000;stroke-linecap:square;stroke-linejoin:miter;stroke-width:0.8;\"/>\n   </g>\n  </g>\n  <g id=\"axes_2\">\n   <g id=\"patch_7\">\n    <path d=\"M 342.030882 172.381572 \nL 604.619118 172.381572 \nL 604.619118 8.263925 \nL 342.030882 8.263925 \nz\n\" style=\"fill:#ffffff;\"/>\n   </g>\n   <g clip-path=\"url(#pe56727d4ad)\">\n    <image height=\"165\" id=\"imagec09a01b648\" transform=\"scale(1 -1)translate(0 -165)\" width=\"263\" x=\"342.030882\" xlink:href=\"data:image/png;base64,\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\" y=\"-7.381572\"/>\n   </g>\n   <g id=\"matplotlib.axis_3\">\n    <g id=\"xtick_6\">\n     <g id=\"line2d_12\">\n      <g>\n       <use style=\"stroke:#000000;stroke-width:0.8;\" x=\"344.766176\" xlink:href=\"#m284995aa52\" y=\"172.381572\"/>\n      </g>\n     </g>\n     <g id=\"text_12\">\n      <!-- 0 -->\n      <g transform=\"translate(341.584926 186.980009)scale(0.1 -0.1)\">\n       <use xlink:href=\"#DejaVuSans-48\"/>\n      </g>\n     </g>\n    </g>\n    <g id=\"xtick_7\">\n     <g id=\"line2d_13\">\n      <g>\n       <use style=\"stroke:#000000;stroke-width:0.8;\" x=\"399.472059\" xlink:href=\"#m284995aa52\" y=\"172.381572\"/>\n      </g>\n     </g>\n     <g id=\"text_13\">\n      <!-- 10 -->\n      <g transform=\"translate(393.109559 186.980009)scale(0.1 -0.1)\">\n       <use xlink:href=\"#DejaVuSans-49\"/>\n       <use x=\"63.623047\" xlink:href=\"#DejaVuSans-48\"/>\n      </g>\n     </g>\n    </g>\n    <g id=\"xtick_8\">\n     <g id=\"line2d_14\">\n      <g>\n       <use style=\"stroke:#000000;stroke-width:0.8;\" x=\"454.177941\" xlink:href=\"#m284995aa52\" y=\"172.381572\"/>\n      </g>\n     </g>\n     <g id=\"text_14\">\n      <!-- 20 -->\n      <g transform=\"translate(447.815441 186.980009)scale(0.1 -0.1)\">\n       <use xlink:href=\"#DejaVuSans-50\"/>\n       <use x=\"63.623047\" xlink:href=\"#DejaVuSans-48\"/>\n      </g>\n     </g>\n    </g>\n    <g id=\"xtick_9\">\n     <g id=\"line2d_15\">\n      <g>\n       <use style=\"stroke:#000000;stroke-width:0.8;\" x=\"508.883824\" xlink:href=\"#m284995aa52\" y=\"172.381572\"/>\n      </g>\n     </g>\n     <g id=\"text_15\">\n      <!-- 30 -->\n      <g transform=\"translate(502.521324 186.980009)scale(0.1 -0.1)\">\n       <use xlink:href=\"#DejaVuSans-51\"/>\n       <use x=\"63.623047\" xlink:href=\"#DejaVuSans-48\"/>\n      </g>\n     </g>\n    </g>\n    <g id=\"xtick_10\">\n     <g id=\"line2d_16\">\n      <g>\n       <use style=\"stroke:#000000;stroke-width:0.8;\" x=\"563.589706\" xlink:href=\"#m284995aa52\" y=\"172.381572\"/>\n      </g>\n     </g>\n     <g id=\"text_16\">\n      <!-- 40 -->\n      <g transform=\"translate(557.227206 186.980009)scale(0.1 -0.1)\">\n       <use xlink:href=\"#DejaVuSans-52\"/>\n       <use x=\"63.623047\" xlink:href=\"#DejaVuSans-48\"/>\n      </g>\n     </g>\n    </g>\n   </g>\n   <g id=\"matplotlib.axis_4\">\n    <g id=\"ytick_7\">\n     <g id=\"line2d_17\">\n      <g>\n       <use style=\"stroke:#000000;stroke-width:0.8;\" x=\"342.030882\" xlink:href=\"#m3efd749827\" y=\"10.999219\"/>\n      </g>\n     </g>\n     <g id=\"text_17\">\n      <!-- 0 -->\n      <g transform=\"translate(328.668382 14.798437)scale(0.1 -0.1)\">\n       <use xlink:href=\"#DejaVuSans-48\"/>\n      </g>\n     </g>\n    </g>\n    <g id=\"ytick_8\">\n     <g id=\"line2d_18\">\n      <g>\n       <use style=\"stroke:#000000;stroke-width:0.8;\" x=\"342.030882\" xlink:href=\"#m3efd749827\" y=\"38.35216\"/>\n      </g>\n     </g>\n     <g id=\"text_18\">\n      <!-- 5 -->\n      <g transform=\"translate(328.668382 42.151379)scale(0.1 -0.1)\">\n       <use xlink:href=\"#DejaVuSans-53\"/>\n      </g>\n     </g>\n    </g>\n    <g id=\"ytick_9\">\n     <g id=\"line2d_19\">\n      <g>\n       <use style=\"stroke:#000000;stroke-width:0.8;\" x=\"342.030882\" xlink:href=\"#m3efd749827\" y=\"65.705101\"/>\n      </g>\n     </g>\n     <g id=\"text_19\">\n      <!-- 10 -->\n      <g transform=\"translate(322.305882 69.50432)scale(0.1 -0.1)\">\n       <use xlink:href=\"#DejaVuSans-49\"/>\n       <use x=\"63.623047\" xlink:href=\"#DejaVuSans-48\"/>\n      </g>\n     </g>\n    </g>\n    <g id=\"ytick_10\">\n     <g id=\"line2d_20\">\n      <g>\n       <use style=\"stroke:#000000;stroke-width:0.8;\" x=\"342.030882\" xlink:href=\"#m3efd749827\" y=\"93.058042\"/>\n      </g>\n     </g>\n     <g id=\"text_20\">\n      <!-- 15 -->\n      <g transform=\"translate(322.305882 96.857261)scale(0.1 -0.1)\">\n       <use xlink:href=\"#DejaVuSans-49\"/>\n       <use x=\"63.623047\" xlink:href=\"#DejaVuSans-53\"/>\n      </g>\n     </g>\n    </g>\n    <g id=\"ytick_11\">\n     <g id=\"line2d_21\">\n      <g>\n       <use style=\"stroke:#000000;stroke-width:0.8;\" x=\"342.030882\" xlink:href=\"#m3efd749827\" y=\"120.410983\"/>\n      </g>\n     </g>\n     <g id=\"text_21\">\n      <!-- 20 -->\n      <g transform=\"translate(322.305882 124.210202)scale(0.1 -0.1)\">\n       <use xlink:href=\"#DejaVuSans-50\"/>\n       <use x=\"63.623047\" xlink:href=\"#DejaVuSans-48\"/>\n      </g>\n     </g>\n    </g>\n    <g id=\"ytick_12\">\n     <g id=\"line2d_22\">\n      <g>\n       <use style=\"stroke:#000000;stroke-width:0.8;\" x=\"342.030882\" xlink:href=\"#m3efd749827\" y=\"147.763925\"/>\n      </g>\n     </g>\n     <g id=\"text_22\">\n      <!-- 25 -->\n      <g transform=\"translate(322.305882 151.563143)scale(0.1 -0.1)\">\n       <use xlink:href=\"#DejaVuSans-50\"/>\n       <use x=\"63.623047\" xlink:href=\"#DejaVuSans-53\"/>\n      </g>\n     </g>\n    </g>\n   </g>\n   <g id=\"patch_8\">\n    <path d=\"M 342.030882 172.381572 \nL 342.030882 8.263925 \n\" style=\"fill:none;stroke:#000000;stroke-linecap:square;stroke-linejoin:miter;stroke-width:0.8;\"/>\n   </g>\n   <g id=\"patch_9\">\n    <path d=\"M 604.619118 172.381572 \nL 604.619118 8.263925 \n\" style=\"fill:none;stroke:#000000;stroke-linecap:square;stroke-linejoin:miter;stroke-width:0.8;\"/>\n   </g>\n   <g id=\"patch_10\">\n    <path d=\"M 342.030882 172.381572 \nL 604.619118 172.381572 \n\" style=\"fill:none;stroke:#000000;stroke-linecap:square;stroke-linejoin:miter;stroke-width:0.8;\"/>\n   </g>\n   <g id=\"patch_11\">\n    <path d=\"M 342.030882 8.263925 \nL 604.619118 8.263925 \n\" style=\"fill:none;stroke:#000000;stroke-linecap:square;stroke-linejoin:miter;stroke-width:0.8;\"/>\n   </g>\n  </g>\n  <g id=\"axes_3\">\n   <g id=\"patch_12\">\n    <path d=\"M 657.136765 172.381572 \nL 919.725 172.381572 \nL 919.725 8.263925 \nL 657.136765 8.263925 \nz\n\" style=\"fill:#ffffff;\"/>\n   </g>\n   <g clip-path=\"url(#p63c27b8057)\">\n    <image height=\"165\" id=\"image7563f7da86\" transform=\"scale(1 -1)translate(0 -165)\" width=\"263\" x=\"657.136765\" xlink:href=\"data:image/png;base64,\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\" y=\"-7.381572\"/>\n   </g>\n   <g id=\"matplotlib.axis_5\">\n    <g id=\"xtick_11\">\n     <g id=\"line2d_23\">\n      <g>\n       <use style=\"stroke:#000000;stroke-width:0.8;\" x=\"659.872059\" xlink:href=\"#m284995aa52\" y=\"172.381572\"/>\n      </g>\n     </g>\n     <g id=\"text_23\">\n      <!-- 0 -->\n      <g transform=\"translate(656.690809 186.980009)scale(0.1 -0.1)\">\n       <use xlink:href=\"#DejaVuSans-48\"/>\n      </g>\n     </g>\n    </g>\n    <g id=\"xtick_12\">\n     <g id=\"line2d_24\">\n      <g>\n       <use style=\"stroke:#000000;stroke-width:0.8;\" x=\"714.577941\" xlink:href=\"#m284995aa52\" y=\"172.381572\"/>\n      </g>\n     </g>\n     <g id=\"text_24\">\n      <!-- 10 -->\n      <g transform=\"translate(708.215441 186.980009)scale(0.1 -0.1)\">\n       <use xlink:href=\"#DejaVuSans-49\"/>\n       <use x=\"63.623047\" xlink:href=\"#DejaVuSans-48\"/>\n      </g>\n     </g>\n    </g>\n    <g id=\"xtick_13\">\n     <g id=\"line2d_25\">\n      <g>\n       <use style=\"stroke:#000000;stroke-width:0.8;\" x=\"769.283824\" xlink:href=\"#m284995aa52\" y=\"172.381572\"/>\n      </g>\n     </g>\n     <g id=\"text_25\">\n      <!-- 20 -->\n      <g transform=\"translate(762.921324 186.980009)scale(0.1 -0.1)\">\n       <use xlink:href=\"#DejaVuSans-50\"/>\n       <use x=\"63.623047\" xlink:href=\"#DejaVuSans-48\"/>\n      </g>\n     </g>\n    </g>\n    <g id=\"xtick_14\">\n     <g id=\"line2d_26\">\n      <g>\n       <use style=\"stroke:#000000;stroke-width:0.8;\" x=\"823.989706\" xlink:href=\"#m284995aa52\" y=\"172.381572\"/>\n      </g>\n     </g>\n     <g id=\"text_26\">\n      <!-- 30 -->\n      <g transform=\"translate(817.627206 186.980009)scale(0.1 -0.1)\">\n       <use xlink:href=\"#DejaVuSans-51\"/>\n       <use x=\"63.623047\" xlink:href=\"#DejaVuSans-48\"/>\n      </g>\n     </g>\n    </g>\n    <g id=\"xtick_15\">\n     <g id=\"line2d_27\">\n      <g>\n       <use style=\"stroke:#000000;stroke-width:0.8;\" x=\"878.695588\" xlink:href=\"#m284995aa52\" y=\"172.381572\"/>\n      </g>\n     </g>\n     <g id=\"text_27\">\n      <!-- 40 -->\n      <g transform=\"translate(872.333088 186.980009)scale(0.1 -0.1)\">\n       <use xlink:href=\"#DejaVuSans-52\"/>\n       <use x=\"63.623047\" xlink:href=\"#DejaVuSans-48\"/>\n      </g>\n     </g>\n    </g>\n   </g>\n   <g id=\"matplotlib.axis_6\">\n    <g id=\"ytick_13\">\n     <g id=\"line2d_28\">\n      <g>\n       <use style=\"stroke:#000000;stroke-width:0.8;\" x=\"657.136765\" xlink:href=\"#m3efd749827\" y=\"10.999219\"/>\n      </g>\n     </g>\n     <g id=\"text_28\">\n      <!-- 0 -->\n      <g transform=\"translate(643.774265 14.798437)scale(0.1 -0.1)\">\n       <use xlink:href=\"#DejaVuSans-48\"/>\n      </g>\n     </g>\n    </g>\n    <g id=\"ytick_14\">\n     <g id=\"line2d_29\">\n      <g>\n       <use style=\"stroke:#000000;stroke-width:0.8;\" x=\"657.136765\" xlink:href=\"#m3efd749827\" y=\"38.35216\"/>\n      </g>\n     </g>\n     <g id=\"text_29\">\n      <!-- 5 -->\n      <g transform=\"translate(643.774265 42.151379)scale(0.1 -0.1)\">\n       <use xlink:href=\"#DejaVuSans-53\"/>\n      </g>\n     </g>\n    </g>\n    <g id=\"ytick_15\">\n     <g id=\"line2d_30\">\n      <g>\n       <use style=\"stroke:#000000;stroke-width:0.8;\" x=\"657.136765\" xlink:href=\"#m3efd749827\" y=\"65.705101\"/>\n      </g>\n     </g>\n     <g id=\"text_30\">\n      <!-- 10 -->\n      <g transform=\"translate(637.411765 69.50432)scale(0.1 -0.1)\">\n       <use xlink:href=\"#DejaVuSans-49\"/>\n       <use x=\"63.623047\" xlink:href=\"#DejaVuSans-48\"/>\n      </g>\n     </g>\n    </g>\n    <g id=\"ytick_16\">\n     <g id=\"line2d_31\">\n      <g>\n       <use style=\"stroke:#000000;stroke-width:0.8;\" x=\"657.136765\" xlink:href=\"#m3efd749827\" y=\"93.058042\"/>\n      </g>\n     </g>\n     <g id=\"text_31\">\n      <!-- 15 -->\n      <g transform=\"translate(637.411765 96.857261)scale(0.1 -0.1)\">\n       <use xlink:href=\"#DejaVuSans-49\"/>\n       <use x=\"63.623047\" xlink:href=\"#DejaVuSans-53\"/>\n      </g>\n     </g>\n    </g>\n    <g id=\"ytick_17\">\n     <g id=\"line2d_32\">\n      <g>\n       <use style=\"stroke:#000000;stroke-width:0.8;\" x=\"657.136765\" xlink:href=\"#m3efd749827\" y=\"120.410983\"/>\n      </g>\n     </g>\n     <g id=\"text_32\">\n      <!-- 20 -->\n      <g transform=\"translate(637.411765 124.210202)scale(0.1 -0.1)\">\n       <use xlink:href=\"#DejaVuSans-50\"/>\n       <use x=\"63.623047\" xlink:href=\"#DejaVuSans-48\"/>\n      </g>\n     </g>\n    </g>\n    <g id=\"ytick_18\">\n     <g id=\"line2d_33\">\n      <g>\n       <use style=\"stroke:#000000;stroke-width:0.8;\" x=\"657.136765\" xlink:href=\"#m3efd749827\" y=\"147.763925\"/>\n      </g>\n     </g>\n     <g id=\"text_33\">\n      <!-- 25 -->\n      <g transform=\"translate(637.411765 151.563143)scale(0.1 -0.1)\">\n       <use xlink:href=\"#DejaVuSans-50\"/>\n       <use x=\"63.623047\" xlink:href=\"#DejaVuSans-53\"/>\n      </g>\n     </g>\n    </g>\n   </g>\n   <g id=\"patch_13\">\n    <path d=\"M 657.136765 172.381572 \nL 657.136765 8.263925 \n\" style=\"fill:none;stroke:#000000;stroke-linecap:square;stroke-linejoin:miter;stroke-width:0.8;\"/>\n   </g>\n   <g id=\"patch_14\">\n    <path d=\"M 919.725 172.381572 \nL 919.725 8.263925 \n\" style=\"fill:none;stroke:#000000;stroke-linecap:square;stroke-linejoin:miter;stroke-width:0.8;\"/>\n   </g>\n   <g id=\"patch_15\">\n    <path d=\"M 657.136765 172.381572 \nL 919.725 172.381572 \n\" style=\"fill:none;stroke:#000000;stroke-linecap:square;stroke-linejoin:miter;stroke-width:0.8;\"/>\n   </g>\n   <g id=\"patch_16\">\n    <path d=\"M 657.136765 8.263925 \nL 919.725 8.263925 \n\" style=\"fill:none;stroke:#000000;stroke-linecap:square;stroke-linejoin:miter;stroke-width:0.8;\"/>\n   </g>\n  </g>\n </g>\n <defs>\n  <clipPath id=\"p82599c42b5\">\n   <rect height=\"164.117647\" width=\"262.588235\" x=\"26.925\" y=\"8.263925\"/>\n  </clipPath>\n  <clipPath id=\"pe56727d4ad\">\n   <rect height=\"164.117647\" width=\"262.588235\" x=\"342.030882\" y=\"8.263925\"/>\n  </clipPath>\n  <clipPath id=\"p63c27b8057\">\n   <rect height=\"164.117647\" width=\"262.588235\" x=\"657.136765\" y=\"8.263925\"/>\n  </clipPath>\n </defs>\n</svg>\n",
      "image/png": "[encoded data removed]"
     },
     "metadata": {
      "needs_background": "light"
     }
    }
   ],
   "source": [
    "conv.show_process()"
   ]
  },
  {
   "source": [
    "# Tempos"
   ],
   "cell_type": "markdown",
   "metadata": {}
  },
  {
   "cell_type": "code",
   "execution_count": 6,
   "metadata": {},
   "outputs": [],
   "source": [
    "import time"
   ]
  },
  {
   "cell_type": "code",
   "execution_count": 7,
   "metadata": {},
   "outputs": [
    {
     "output_type": "stream",
     "name": "stdout",
     "text": [
      "DCT 2D Direta = 11.676544427871704 (s)\n"
     ]
    }
   ],
   "source": [
    "start = time.time()\n",
    "\n",
    "dct = conv.get_2d_dct(img, 0)\n",
    "\n",
    "stop = time.time()\n",
    "\n",
    "delta = stop - start\n",
    "\n",
    "print(f\"DCT 2D Direta = {delta} (s)\")"
   ]
  },
  {
   "cell_type": "code",
   "execution_count": 8,
   "metadata": {},
   "outputs": [
    {
     "output_type": "stream",
     "name": "stdout",
     "text": [
      "DCT 2D Inversa = 7.466935396194458 (s)\n"
     ]
    }
   ],
   "source": [
    "start = time.time()\n",
    "\n",
    "dct_inv = conv.get_inv_2d_dct(dct)\n",
    "\n",
    "stop = time.time()\n",
    "\n",
    "delta = stop - start\n",
    "\n",
    "print(f\"DCT 2D Inversa = {delta} (s)\")"
   ]
  },
  {
   "cell_type": "code",
   "execution_count": 9,
   "metadata": {},
   "outputs": [
    {
     "output_type": "stream",
     "name": "stdout",
     "text": [
      "DCT 2D Separável Direta = 0.3573133945465088 (s)\n"
     ]
    }
   ],
   "source": [
    "start = time.time()\n",
    "\n",
    "dct_sep = conv.get_2d_dct_sep(img, 0)\n",
    "\n",
    "stop = time.time()\n",
    "\n",
    "delta = stop - start\n",
    "\n",
    "print(f\"DCT 2D Separável Direta = {delta} (s)\")"
   ]
  },
  {
   "cell_type": "code",
   "execution_count": 10,
   "metadata": {},
   "outputs": [
    {
     "output_type": "stream",
     "name": "stdout",
     "text": [
      "DCT 2D Separável Inversa = 0.25031089782714844 (s)\n"
     ]
    }
   ],
   "source": [
    "start = time.time()\n",
    "\n",
    "dct_sep = conv.get_inv_2d_dct_sep(dct_sep)\n",
    "\n",
    "stop = time.time()\n",
    "\n",
    "delta = stop - start\n",
    "\n",
    "print(f\"DCT 2D Separável Inversa = {delta} (s)\")"
   ]
  },
  {
   "cell_type": "code",
   "execution_count": null,
   "metadata": {},
   "outputs": [],
   "source": []
  }
 ],
 "metadata": {
  "kernelspec": {
   "display_name": "Python 3",
   "language": "python",
   "name": "python3"
  },
  "language_info": {
   "codemirror_mode": {
    "name": "ipython",
    "version": 3
   },
   "file_extension": ".py",
   "mimetype": "text/x-python",
   "name": "python",
   "nbconvert_exporter": "python",
   "pygments_lexer": "ipython3",
   "version": "3.8.5-final"
  }
 },
 "nbformat": 4,
 "nbformat_minor": 4
}